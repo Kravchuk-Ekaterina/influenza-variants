{
 "cells": [
  {
   "cell_type": "code",
   "execution_count": 14,
   "id": "conventional-newman",
   "metadata": {},
   "outputs": [],
   "source": [
    "import pandas as pd"
   ]
  },
  {
   "cell_type": "markdown",
   "id": "active-doctrine",
   "metadata": {},
   "source": [
    "## Importing the data"
   ]
  },
  {
   "cell_type": "code",
   "execution_count": 15,
   "id": "affected-paradise",
   "metadata": {},
   "outputs": [],
   "source": [
    "control_1 = pd.read_csv('VarScan_results_alignment_1.csv')\n",
    "control_2 = pd.read_csv('VarScan_results_alignment_2.csv')\n",
    "control_3 = pd.read_csv('VarScan_results_alignment_3.csv')\n",
    "roommate = pd.read_csv('VarScan_results_roommate.csv')\n",
    "\n",
    "control_1.frequency = control_1.frequency.apply(lambda x: x.strip('%')).astype(float)\n",
    "control_2.frequency = control_2.frequency.apply(lambda x: x.strip('%')).astype(float)\n",
    "control_3.frequency = control_3.frequency.apply(lambda x: x.strip('%')).astype(float)\n",
    "roommate.frequency = roommate.frequency.apply(lambda x: x.strip('%')).astype(float)"
   ]
  },
  {
   "cell_type": "markdown",
   "id": "perfect-workstation",
   "metadata": {},
   "source": [
    "## Calculating average and standard deviation"
   ]
  },
  {
   "cell_type": "markdown",
   "id": "restricted-celebrity",
   "metadata": {},
   "source": [
    "Averages"
   ]
  },
  {
   "cell_type": "code",
   "execution_count": 16,
   "id": "passing-johnson",
   "metadata": {},
   "outputs": [
    {
     "name": "stdout",
     "output_type": "stream",
     "text": [
      "1st control average is  0.256\n",
      "2nd control average is  0.237\n",
      "3rd control average is  0.25\n"
     ]
    }
   ],
   "source": [
    "average_1 = control_1.frequency.mean()\n",
    "average_2 = control_2.frequency.mean()\n",
    "average_3 = control_3.frequency.mean()\n",
    "\n",
    "print('1st control average is ', round(average_1, 3))\n",
    "print('2nd control average is ', round(average_2, 3))\n",
    "print('3rd control average is ', round(average_3, 3))"
   ]
  },
  {
   "cell_type": "markdown",
   "id": "identical-excitement",
   "metadata": {},
   "source": [
    "Standard deviations"
   ]
  },
  {
   "cell_type": "code",
   "execution_count": 17,
   "id": "identified-workplace",
   "metadata": {},
   "outputs": [
    {
     "name": "stdout",
     "output_type": "stream",
     "text": [
      "1st control standard deviation is  0.072\n",
      "2nd control standard deviation is  0.052\n",
      "3rd control standard deviation is  0.078\n"
     ]
    }
   ],
   "source": [
    "std_1 = control_1.frequency.std()\n",
    "std_2 = control_2.frequency.std()\n",
    "std_3 = control_3.frequency.std()\n",
    "\n",
    "print('1st control standard deviation is ', round(std_1, 3))\n",
    "print('2nd control standard deviation is ', round(std_2, 3))\n",
    "print('3rd control standard deviation is ', round(std_3, 3))"
   ]
  },
  {
   "cell_type": "code",
   "execution_count": 18,
   "id": "recent-affect",
   "metadata": {},
   "outputs": [
    {
     "name": "stdout",
     "output_type": "stream",
     "text": [
      "Average is  0.24829411764705883\n",
      "Standard deviation is  0.06898268773972731\n"
     ]
    }
   ],
   "source": [
    "control = pd.concat([control_1, control_2, control_3])\n",
    "average = control.frequency.mean()\n",
    "std = control.frequency.std()\n",
    "\n",
    "print('Average is ', average)\n",
    "print('Standard deviation is ', std)"
   ]
  },
  {
   "cell_type": "markdown",
   "id": "sitting-effects",
   "metadata": {},
   "source": [
    "## Findind significant mutations for roommate"
   ]
  },
  {
   "cell_type": "code",
   "execution_count": 19,
   "id": "particular-berlin",
   "metadata": {},
   "outputs": [
    {
     "data": {
      "text/html": [
       "<div>\n",
       "<style scoped>\n",
       "    .dataframe tbody tr th:only-of-type {\n",
       "        vertical-align: middle;\n",
       "    }\n",
       "\n",
       "    .dataframe tbody tr th {\n",
       "        vertical-align: top;\n",
       "    }\n",
       "\n",
       "    .dataframe thead th {\n",
       "        text-align: right;\n",
       "    }\n",
       "</style>\n",
       "<table border=\"1\" class=\"dataframe\">\n",
       "  <thead>\n",
       "    <tr style=\"text-align: right;\">\n",
       "      <th></th>\n",
       "      <th>position</th>\n",
       "      <th>reference_base</th>\n",
       "      <th>alternative_base</th>\n",
       "      <th>frequency</th>\n",
       "      <th>significant</th>\n",
       "    </tr>\n",
       "  </thead>\n",
       "  <tbody>\n",
       "    <tr>\n",
       "      <th>0</th>\n",
       "      <td>72</td>\n",
       "      <td>A</td>\n",
       "      <td>G</td>\n",
       "      <td>99.96</td>\n",
       "      <td>True</td>\n",
       "    </tr>\n",
       "    <tr>\n",
       "      <th>1</th>\n",
       "      <td>117</td>\n",
       "      <td>C</td>\n",
       "      <td>T</td>\n",
       "      <td>99.82</td>\n",
       "      <td>True</td>\n",
       "    </tr>\n",
       "    <tr>\n",
       "      <th>4</th>\n",
       "      <td>307</td>\n",
       "      <td>C</td>\n",
       "      <td>T</td>\n",
       "      <td>0.94</td>\n",
       "      <td>True</td>\n",
       "    </tr>\n",
       "    <tr>\n",
       "      <th>10</th>\n",
       "      <td>774</td>\n",
       "      <td>T</td>\n",
       "      <td>C</td>\n",
       "      <td>99.96</td>\n",
       "      <td>True</td>\n",
       "    </tr>\n",
       "    <tr>\n",
       "      <th>14</th>\n",
       "      <td>999</td>\n",
       "      <td>C</td>\n",
       "      <td>T</td>\n",
       "      <td>99.86</td>\n",
       "      <td>True</td>\n",
       "    </tr>\n",
       "    <tr>\n",
       "      <th>18</th>\n",
       "      <td>1260</td>\n",
       "      <td>A</td>\n",
       "      <td>C</td>\n",
       "      <td>99.94</td>\n",
       "      <td>True</td>\n",
       "    </tr>\n",
       "    <tr>\n",
       "      <th>20</th>\n",
       "      <td>1458</td>\n",
       "      <td>T</td>\n",
       "      <td>C</td>\n",
       "      <td>0.84</td>\n",
       "      <td>True</td>\n",
       "    </tr>\n",
       "  </tbody>\n",
       "</table>\n",
       "</div>"
      ],
      "text/plain": [
       "    position reference_base alternative_base  frequency  significant\n",
       "0         72              A                G      99.96         True\n",
       "1        117              C                T      99.82         True\n",
       "4        307              C                T       0.94         True\n",
       "10       774              T                C      99.96         True\n",
       "14       999              C                T      99.86         True\n",
       "18      1260              A                C      99.94         True\n",
       "20      1458              T                C       0.84         True"
      ]
     },
     "execution_count": 19,
     "metadata": {},
     "output_type": "execute_result"
    }
   ],
   "source": [
    "roommate['significant'] = roommate.frequency.apply(lambda x: x < average - 3 * std or x > average + 3 * std)\n",
    "significant_mutations = roommate[roommate.significant == True]\n",
    "significant_mutations"
   ]
  },
  {
   "cell_type": "markdown",
   "id": "neither-optimization",
   "metadata": {},
   "source": [
    "Saving the data"
   ]
  },
  {
   "cell_type": "code",
   "execution_count": 20,
   "id": "modern-wilderness",
   "metadata": {},
   "outputs": [],
   "source": [
    "significant_mutations.to_csv('significant_mutations.csv')"
   ]
  }
 ],
 "metadata": {
  "kernelspec": {
   "display_name": "Python 3",
   "language": "python",
   "name": "python3"
  },
  "language_info": {
   "codemirror_mode": {
    "name": "ipython",
    "version": 3
   },
   "file_extension": ".py",
   "mimetype": "text/x-python",
   "name": "python",
   "nbconvert_exporter": "python",
   "pygments_lexer": "ipython3",
   "version": "3.8.5"
  }
 },
 "nbformat": 4,
 "nbformat_minor": 5
}

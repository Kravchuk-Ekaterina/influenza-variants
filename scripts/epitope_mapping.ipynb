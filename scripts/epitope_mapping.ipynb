{
 "cells": [
  {
   "cell_type": "markdown",
   "id": "spare-investing",
   "metadata": {},
   "source": [
    "## Using data from Munoz et al, 2004"
   ]
  },
  {
   "cell_type": "code",
   "execution_count": 2,
   "id": "billion-waste",
   "metadata": {},
   "outputs": [],
   "source": [
    "epitopes = {\n",
    "    'A': [122, 124, 126, 130, 131, 132, 133, 135, 137, 138, 140, 142, 143, 144, 145, 146, 150, 152, 168],\n",
    "    'B': [128, 129, 155, 156, 157, 158, 159, 160, 163, 165, 186, 187, 188, 189, 190, 192, 193, 194, 196, 197, 198],\n",
    "    'C': [44, 45, 46, 47, 48, 50, 51, 53, 54, 273, 275, 276, 278, 279, 280, 294, 297, 299, 300, 304, 305, 307, \n",
    "          308, 309, 310, 311, 312],\n",
    "    'D': [96, 102, 103, 117, 121, 167, 170 , 171, 172, 173, 174, 175, 176, 177, 179, 182, 201, 203, 207, 208, 209, \n",
    "          212, 213, 214, 215, 216, 217, 218, 219, 226, 227, 228, 229, 230, 238, 240, 242, 244, 246, 247, 248],\n",
    "    'E': [57, 59, 62, 63, 67, 75, 78, 80, 81, 82, 83, 86, 87, 88, 91, 92, 94, 109, 260, 261, 262, 265]\n",
    "}"
   ]
  },
  {
   "cell_type": "markdown",
   "id": "bigger-wholesale",
   "metadata": {},
   "source": [
    "## Searching for epitopes"
   ]
  },
  {
   "cell_type": "code",
   "execution_count": 3,
   "id": "foster-qualification",
   "metadata": {},
   "outputs": [],
   "source": [
    "def find_epitope(x):\n",
    "    protein_position = (x - 1) // 3 + 1\n",
    "    for i in epitopes.keys(): \n",
    "        if protein_position in epitopes[i]: \n",
    "            return i\n",
    "    return '-'"
   ]
  },
  {
   "cell_type": "code",
   "execution_count": 4,
   "id": "premier-quick",
   "metadata": {},
   "outputs": [],
   "source": [
    "import pandas as pd\n",
    "significant_mutations = pd.read_csv('significant_mutations.csv')"
   ]
  },
  {
   "cell_type": "code",
   "execution_count": 5,
   "id": "cultural-eleven",
   "metadata": {},
   "outputs": [
    {
     "data": {
      "text/html": [
       "<div>\n",
       "<style scoped>\n",
       "    .dataframe tbody tr th:only-of-type {\n",
       "        vertical-align: middle;\n",
       "    }\n",
       "\n",
       "    .dataframe tbody tr th {\n",
       "        vertical-align: top;\n",
       "    }\n",
       "\n",
       "    .dataframe thead th {\n",
       "        text-align: right;\n",
       "    }\n",
       "</style>\n",
       "<table border=\"1\" class=\"dataframe\">\n",
       "  <thead>\n",
       "    <tr style=\"text-align: right;\">\n",
       "      <th></th>\n",
       "      <th>Unnamed: 0</th>\n",
       "      <th>position</th>\n",
       "      <th>reference_base</th>\n",
       "      <th>alternative_base</th>\n",
       "      <th>frequency</th>\n",
       "      <th>significant</th>\n",
       "      <th>epitope</th>\n",
       "    </tr>\n",
       "  </thead>\n",
       "  <tbody>\n",
       "    <tr>\n",
       "      <th>0</th>\n",
       "      <td>0</td>\n",
       "      <td>72</td>\n",
       "      <td>A</td>\n",
       "      <td>G</td>\n",
       "      <td>99.96</td>\n",
       "      <td>True</td>\n",
       "      <td>-</td>\n",
       "    </tr>\n",
       "    <tr>\n",
       "      <th>1</th>\n",
       "      <td>1</td>\n",
       "      <td>117</td>\n",
       "      <td>C</td>\n",
       "      <td>T</td>\n",
       "      <td>99.82</td>\n",
       "      <td>True</td>\n",
       "      <td>-</td>\n",
       "    </tr>\n",
       "    <tr>\n",
       "      <th>2</th>\n",
       "      <td>4</td>\n",
       "      <td>307</td>\n",
       "      <td>C</td>\n",
       "      <td>T</td>\n",
       "      <td>0.94</td>\n",
       "      <td>True</td>\n",
       "      <td>D</td>\n",
       "    </tr>\n",
       "    <tr>\n",
       "      <th>3</th>\n",
       "      <td>10</td>\n",
       "      <td>774</td>\n",
       "      <td>T</td>\n",
       "      <td>C</td>\n",
       "      <td>99.96</td>\n",
       "      <td>True</td>\n",
       "      <td>-</td>\n",
       "    </tr>\n",
       "    <tr>\n",
       "      <th>4</th>\n",
       "      <td>14</td>\n",
       "      <td>999</td>\n",
       "      <td>C</td>\n",
       "      <td>T</td>\n",
       "      <td>99.86</td>\n",
       "      <td>True</td>\n",
       "      <td>-</td>\n",
       "    </tr>\n",
       "    <tr>\n",
       "      <th>5</th>\n",
       "      <td>18</td>\n",
       "      <td>1260</td>\n",
       "      <td>A</td>\n",
       "      <td>C</td>\n",
       "      <td>99.94</td>\n",
       "      <td>True</td>\n",
       "      <td>-</td>\n",
       "    </tr>\n",
       "    <tr>\n",
       "      <th>6</th>\n",
       "      <td>20</td>\n",
       "      <td>1458</td>\n",
       "      <td>T</td>\n",
       "      <td>C</td>\n",
       "      <td>0.84</td>\n",
       "      <td>True</td>\n",
       "      <td>-</td>\n",
       "    </tr>\n",
       "  </tbody>\n",
       "</table>\n",
       "</div>"
      ],
      "text/plain": [
       "   Unnamed: 0  position reference_base alternative_base  frequency  \\\n",
       "0           0        72              A                G      99.96   \n",
       "1           1       117              C                T      99.82   \n",
       "2           4       307              C                T       0.94   \n",
       "3          10       774              T                C      99.96   \n",
       "4          14       999              C                T      99.86   \n",
       "5          18      1260              A                C      99.94   \n",
       "6          20      1458              T                C       0.84   \n",
       "\n",
       "   significant epitope  \n",
       "0         True       -  \n",
       "1         True       -  \n",
       "2         True       D  \n",
       "3         True       -  \n",
       "4         True       -  \n",
       "5         True       -  \n",
       "6         True       -  "
      ]
     },
     "execution_count": 5,
     "metadata": {},
     "output_type": "execute_result"
    }
   ],
   "source": [
    "significant_mutations['epitope'] = significant_mutations.position.apply(find_epitope)\n",
    "significant_mutations"
   ]
  },
  {
   "cell_type": "code",
   "execution_count": 6,
   "id": "arabic-edition",
   "metadata": {},
   "outputs": [
    {
     "data": {
      "text/html": [
       "<div>\n",
       "<style scoped>\n",
       "    .dataframe tbody tr th:only-of-type {\n",
       "        vertical-align: middle;\n",
       "    }\n",
       "\n",
       "    .dataframe tbody tr th {\n",
       "        vertical-align: top;\n",
       "    }\n",
       "\n",
       "    .dataframe thead th {\n",
       "        text-align: right;\n",
       "    }\n",
       "</style>\n",
       "<table border=\"1\" class=\"dataframe\">\n",
       "  <thead>\n",
       "    <tr style=\"text-align: right;\">\n",
       "      <th></th>\n",
       "      <th>Unnamed: 0</th>\n",
       "      <th>position</th>\n",
       "      <th>reference_base</th>\n",
       "      <th>alternative_base</th>\n",
       "      <th>frequency</th>\n",
       "      <th>significant</th>\n",
       "      <th>epitope</th>\n",
       "    </tr>\n",
       "  </thead>\n",
       "  <tbody>\n",
       "    <tr>\n",
       "      <th>2</th>\n",
       "      <td>4</td>\n",
       "      <td>307</td>\n",
       "      <td>C</td>\n",
       "      <td>T</td>\n",
       "      <td>0.94</td>\n",
       "      <td>True</td>\n",
       "      <td>D</td>\n",
       "    </tr>\n",
       "  </tbody>\n",
       "</table>\n",
       "</div>"
      ],
      "text/plain": [
       "   Unnamed: 0  position reference_base alternative_base  frequency  \\\n",
       "2           4       307              C                T       0.94   \n",
       "\n",
       "   significant epitope  \n",
       "2         True       D  "
      ]
     },
     "execution_count": 6,
     "metadata": {},
     "output_type": "execute_result"
    }
   ],
   "source": [
    "epitope_significant_mutations = significant_mutations[significant_mutations.epitope != '-']\n",
    "epitope_significant_mutations"
   ]
  },
  {
   "cell_type": "markdown",
   "id": "leading-replication",
   "metadata": {},
   "source": [
    "Saving the data"
   ]
  },
  {
   "cell_type": "code",
   "execution_count": 7,
   "id": "heard-convertible",
   "metadata": {},
   "outputs": [],
   "source": [
    "epitope_significant_mutations.to_csv('epitope_significant_mutations.csv')"
   ]
  }
 ],
 "metadata": {
  "kernelspec": {
   "display_name": "Python 3",
   "language": "python",
   "name": "python3"
  },
  "language_info": {
   "codemirror_mode": {
    "name": "ipython",
    "version": 3
   },
   "file_extension": ".py",
   "mimetype": "text/x-python",
   "name": "python",
   "nbconvert_exporter": "python",
   "pygments_lexer": "ipython3",
   "version": "3.8.5"
  }
 },
 "nbformat": 4,
 "nbformat_minor": 5
}
